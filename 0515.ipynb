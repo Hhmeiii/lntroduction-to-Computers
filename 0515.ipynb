{
  "nbformat": 4,
  "nbformat_minor": 0,
  "metadata": {
    "colab": {
      "provenance": [],
      "authorship_tag": "ABX9TyOzggqv1hBGpaX/05oipMpG",
      "include_colab_link": true
    },
    "kernelspec": {
      "name": "python3",
      "display_name": "Python 3"
    },
    "language_info": {
      "name": "python"
    }
  },
  "cells": [
    {
      "cell_type": "markdown",
      "metadata": {
        "id": "view-in-github",
        "colab_type": "text"
      },
      "source": [
        "<a href=\"https://colab.research.google.com/github/Hhmeiii/lntroduction-to-Computers/blob/main/0515.ipynb\" target=\"_parent\"><img src=\"https://colab.research.google.com/assets/colab-badge.svg\" alt=\"Open In Colab\"/></a>"
      ]
    },
    {
      "cell_type": "code",
      "execution_count": 3,
      "metadata": {
        "colab": {
          "base_uri": "https://localhost:8080/"
        },
        "id": "SnZmCWGaQXdF",
        "outputId": "70f706ba-dbaa-4707-9a5d-a58f6c9a06bd"
      },
      "outputs": [
        {
          "output_type": "stream",
          "name": "stdout",
          "text": [
            "今天會下雨嗎?s\n",
            "請重新輸入\n"
          ]
        }
      ],
      "source": [
        "rain = str(input(\"今天會下雨嗎?\"))\n",
        "if (rain==\"Y\" or rain==\"y\"):\n",
        "  print(\"出門記得帶傘!\")\n",
        "elif (rain==\"N\" or rain==\"n\"):\n",
        "  print(\"不用帶傘\")\n",
        "else:\n",
        "  print(\"請重新輸入\")"
      ]
    },
    {
      "cell_type": "code",
      "source": [
        "a = int(input(\"請輸入體溫:\"))\n",
        "if a >= 37.5:\n",
        "  print(\"體溫過高!\")\n",
        "elif 37 <= a <= 37.4:\n",
        "  print(\"體溫略高!\")\n",
        "elif 34 <= a <= 36.9:\n",
        "  print(\"體溫正常!\")\n",
        "else:\n",
        "  print(\"體溫異常，請重新量測!\")  "
      ],
      "metadata": {
        "colab": {
          "base_uri": "https://localhost:8080/"
        },
        "id": "1xK0QibCTWUO",
        "outputId": "ad464cbd-0d47-475f-e4bb-258d73d501b9"
      },
      "execution_count": 8,
      "outputs": [
        {
          "output_type": "stream",
          "name": "stdout",
          "text": [
            "請輸入體溫:33\n",
            "體溫異常，請重新量測!\n"
          ]
        }
      ]
    },
    {
      "cell_type": "code",
      "source": [
        "a = int(input(\"請輸入成績:\"))\n",
        "if a >= 90:\n",
        "  print(\"A\")\n",
        "elif 80 <= a <= 89:\n",
        "  print(\"B\")\n",
        "elif 70 <= a <= 79:\n",
        "  print(\"C\")\n",
        "elif 60 <= a <= 69:\n",
        "  print(\"D\")\n",
        "else:\n",
        "  print(\"E\")"
      ],
      "metadata": {
        "colab": {
          "base_uri": "https://localhost:8080/"
        },
        "id": "4w3DczkqUA_o",
        "outputId": "cf6bc1a1-375f-4d12-c1ba-f6a6addd6ac2"
      },
      "execution_count": 15,
      "outputs": [
        {
          "output_type": "stream",
          "name": "stdout",
          "text": [
            "請輸入成績:59\n",
            "E\n"
          ]
        }
      ]
    },
    {
      "cell_type": "code",
      "source": [
        "a = int(input(\"請輸入月份:\"))\n",
        "if (a == 3 or a == 4 or a == 5):\n",
        "  print(a,\"月是春天!\")\n",
        "elif (a == 6 or a == 7 or a == 8):\n",
        "  print(a,\"月是夏天!\")\n",
        "elif (a == 9 or a == 10 or a == 11):\n",
        "  print(a,\"月是秋天!\")\n",
        "elif (a == 12 or a == 1 or a == 2):\n",
        "  print(a,\"月是冬天!\")\n",
        "else:\n",
        "  print(\"月份不在範圍內!\")"
      ],
      "metadata": {
        "colab": {
          "base_uri": "https://localhost:8080/"
        },
        "id": "wHXmLqQKUB3X",
        "outputId": "b667a8ba-6463-4960-8b35-229ec17a0197"
      },
      "execution_count": 20,
      "outputs": [
        {
          "output_type": "stream",
          "name": "stdout",
          "text": [
            "請輸入月份:13\n",
            "月份不在範圍內!\n"
          ]
        }
      ]
    },
    {
      "cell_type": "code",
      "source": [
        "a = int(input(\"請輸入今年收入淨額:\"))\n",
        "if a >= 2000000:\n",
        "  print(\"付稅金額:\", a * 0.3, \"元\")\n",
        "elif a >= 1000000:\n",
        "  print(\"付稅金額:\", a * 0.21, \"元\")\n",
        "elif a >= 600000:\n",
        "  print(\"付稅金額:\", a * 0.13, \"元\")\n",
        "elif a >= 300000:\n",
        "  print(\"付稅金額:\", a * 0.06, \"元\")\n",
        "else:\n",
        "  print(\"付稅金額:\", a * 0, \"元\")"
      ],
      "metadata": {
        "colab": {
          "base_uri": "https://localhost:8080/"
        },
        "id": "EOiwiN4sUCUX",
        "outputId": "6dbf3aa6-1df7-43f2-aab2-f72357b7551e"
      },
      "execution_count": 30,
      "outputs": [
        {
          "output_type": "stream",
          "name": "stdout",
          "text": [
            "請輸入今年收入淨額:5000\n",
            "付稅金額: 0 元\n"
          ]
        }
      ]
    },
    {
      "cell_type": "code",
      "source": [
        "a = int(input(\"請輸入購物金額:\"))\n",
        "if a >= 100000:\n",
        "  print(\"八折\", a * 0.8, \"元\", sep=\" \")\n",
        "elif 50000 <= a < 100000:\n",
        "  print(\"八五折\", a * 0.85, \"元\", sep=\" \")\n",
        "elif 30000 <= a < 50000:\n",
        "  print(\"九折\", a * 0.9, \"元\", sep=\" \")\n",
        "elif 10000 <= a < 30000:\n",
        "  print(\"九五折\", a * 0.95, \"元\", sep=\" \")\n",
        "else:\n",
        "  print(\"沒打折\", a, \"元\", sep=\" \")"
      ],
      "metadata": {
        "colab": {
          "base_uri": "https://localhost:8080/"
        },
        "id": "Bu6xPpNFYu0q",
        "outputId": "767c8013-4f57-4765-8e97-d926445ce00f"
      },
      "execution_count": 45,
      "outputs": [
        {
          "output_type": "stream",
          "name": "stdout",
          "text": [
            "請輸入購物金額:100000\n",
            "八折 80000.0 元\n"
          ]
        }
      ]
    }
  ]
}