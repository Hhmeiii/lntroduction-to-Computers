{
  "nbformat": 4,
  "nbformat_minor": 0,
  "metadata": {
    "colab": {
      "provenance": [],
      "authorship_tag": "ABX9TyPpkcx2FPRcmp8EKrWKCG6B",
      "include_colab_link": true
    },
    "kernelspec": {
      "name": "python3",
      "display_name": "Python 3"
    },
    "language_info": {
      "name": "python"
    }
  },
  "cells": [
    {
      "cell_type": "markdown",
      "metadata": {
        "id": "view-in-github",
        "colab_type": "text"
      },
      "source": [
        "<a href=\"https://colab.research.google.com/github/Hhmeiii/lntroduction-to-Computers/blob/main/0522.ipynb\" target=\"_parent\"><img src=\"https://colab.research.google.com/assets/colab-badge.svg\" alt=\"Open In Colab\"/></a>"
      ]
    },
    {
      "cell_type": "code",
      "source": [
        "print(\"0522\")"
      ],
      "metadata": {
        "colab": {
          "base_uri": "https://localhost:8080/"
        },
        "id": "lMdHChwuWmXv",
        "outputId": "b0a5819d-979a-4595-9ab9-a4ef077c235d"
      },
      "execution_count": 2,
      "outputs": [
        {
          "output_type": "stream",
          "name": "stdout",
          "text": [
            "0522\n"
          ]
        }
      ]
    },
    {
      "cell_type": "code",
      "execution_count": 3,
      "metadata": {
        "id": "XY5JK4znVTLB"
      },
      "outputs": [],
      "source": [
        "a = range(1,5)"
      ]
    },
    {
      "cell_type": "code",
      "source": [
        "a"
      ],
      "metadata": {
        "colab": {
          "base_uri": "https://localhost:8080/"
        },
        "id": "JNBoHVqNWqPL",
        "outputId": "10f4e549-84e8-4f5a-d05f-ed0a91dbf689"
      },
      "execution_count": 5,
      "outputs": [
        {
          "output_type": "execute_result",
          "data": {
            "text/plain": [
              "range(1, 5)"
            ]
          },
          "metadata": {},
          "execution_count": 5
        }
      ]
    },
    {
      "cell_type": "code",
      "source": [
        "list(a)"
      ],
      "metadata": {
        "colab": {
          "base_uri": "https://localhost:8080/"
        },
        "id": "8O3YiM6HYDk5",
        "outputId": "cafeaf1c-4bf6-43cc-8b85-3382a0c9d973"
      },
      "execution_count": 6,
      "outputs": [
        {
          "output_type": "execute_result",
          "data": {
            "text/plain": [
              "[1, 2, 3, 4]"
            ]
          },
          "metadata": {},
          "execution_count": 6
        }
      ]
    },
    {
      "cell_type": "code",
      "source": [
        "b = range(3,8)"
      ],
      "metadata": {
        "id": "MsJHurapYHuJ"
      },
      "execution_count": 8,
      "outputs": []
    },
    {
      "cell_type": "code",
      "source": [
        "b"
      ],
      "metadata": {
        "colab": {
          "base_uri": "https://localhost:8080/"
        },
        "id": "zU-bqs8aYNCe",
        "outputId": "57b7d275-ee87-4ee4-c65e-dbb5bea46e69"
      },
      "execution_count": 9,
      "outputs": [
        {
          "output_type": "execute_result",
          "data": {
            "text/plain": [
              "range(3, 8)"
            ]
          },
          "metadata": {},
          "execution_count": 9
        }
      ]
    },
    {
      "cell_type": "code",
      "source": [
        "list(b)"
      ],
      "metadata": {
        "colab": {
          "base_uri": "https://localhost:8080/"
        },
        "id": "SJx7i041YOTO",
        "outputId": "0ac4ecb2-f3da-407d-f52b-8628f15f8674"
      },
      "execution_count": 10,
      "outputs": [
        {
          "output_type": "execute_result",
          "data": {
            "text/plain": [
              "[3, 4, 5, 6, 7]"
            ]
          },
          "metadata": {},
          "execution_count": 10
        }
      ]
    },
    {
      "cell_type": "code",
      "source": [
        "c = range(-2,4)"
      ],
      "metadata": {
        "id": "0ALkHMrzYQE7"
      },
      "execution_count": 11,
      "outputs": []
    },
    {
      "cell_type": "code",
      "source": [
        "c"
      ],
      "metadata": {
        "colab": {
          "base_uri": "https://localhost:8080/"
        },
        "id": "BWOtmDBFYVDo",
        "outputId": "b95df4aa-78e4-48b7-d887-c4fa60a60f3e"
      },
      "execution_count": 12,
      "outputs": [
        {
          "output_type": "execute_result",
          "data": {
            "text/plain": [
              "range(-2, 4)"
            ]
          },
          "metadata": {},
          "execution_count": 12
        }
      ]
    },
    {
      "cell_type": "code",
      "source": [
        "list(c)"
      ],
      "metadata": {
        "colab": {
          "base_uri": "https://localhost:8080/"
        },
        "id": "vjvrR1wQYVq_",
        "outputId": "c3ce337c-59aa-464b-e67c-fb1963fdf32a"
      },
      "execution_count": 13,
      "outputs": [
        {
          "output_type": "execute_result",
          "data": {
            "text/plain": [
              "[-2, -1, 0, 1, 2, 3]"
            ]
          },
          "metadata": {},
          "execution_count": 13
        }
      ]
    },
    {
      "cell_type": "code",
      "source": [
        "d = range(6)"
      ],
      "metadata": {
        "id": "gNyR44mhYXh3"
      },
      "execution_count": 14,
      "outputs": []
    },
    {
      "cell_type": "code",
      "source": [
        "d"
      ],
      "metadata": {
        "colab": {
          "base_uri": "https://localhost:8080/"
        },
        "id": "fieg1st0YeVv",
        "outputId": "7131118d-c8c7-477e-b69a-8d66aa4bd92a"
      },
      "execution_count": 15,
      "outputs": [
        {
          "output_type": "execute_result",
          "data": {
            "text/plain": [
              "range(0, 6)"
            ]
          },
          "metadata": {},
          "execution_count": 15
        }
      ]
    },
    {
      "cell_type": "code",
      "source": [
        "list(d)"
      ],
      "metadata": {
        "colab": {
          "base_uri": "https://localhost:8080/"
        },
        "id": "fJnDWaC3YgSI",
        "outputId": "9e81780b-6e81-453d-ab65-fc6edde8919c"
      },
      "execution_count": 16,
      "outputs": [
        {
          "output_type": "execute_result",
          "data": {
            "text/plain": [
              "[0, 1, 2, 3, 4, 5]"
            ]
          },
          "metadata": {},
          "execution_count": 16
        }
      ]
    },
    {
      "cell_type": "code",
      "source": [
        "e = range(8)"
      ],
      "metadata": {
        "id": "-l_QNkoUYjAP"
      },
      "execution_count": 17,
      "outputs": []
    },
    {
      "cell_type": "code",
      "source": [
        "e"
      ],
      "metadata": {
        "colab": {
          "base_uri": "https://localhost:8080/"
        },
        "id": "BfAbqNUtYpSv",
        "outputId": "a3beb9e9-3dfb-4a20-8ec9-ae6aed96e99f"
      },
      "execution_count": 18,
      "outputs": [
        {
          "output_type": "execute_result",
          "data": {
            "text/plain": [
              "range(0, 8)"
            ]
          },
          "metadata": {},
          "execution_count": 18
        }
      ]
    },
    {
      "cell_type": "code",
      "source": [
        "list(e)"
      ],
      "metadata": {
        "colab": {
          "base_uri": "https://localhost:8080/"
        },
        "id": "w5DJTILQYp8i",
        "outputId": "6065fd8e-d502-442c-9407-73d108966c21"
      },
      "execution_count": 19,
      "outputs": [
        {
          "output_type": "execute_result",
          "data": {
            "text/plain": [
              "[0, 1, 2, 3, 4, 5, 6, 7]"
            ]
          },
          "metadata": {},
          "execution_count": 19
        }
      ]
    },
    {
      "cell_type": "code",
      "source": [
        "f = range(3,8,1)"
      ],
      "metadata": {
        "id": "BcM45VpPYyTd"
      },
      "execution_count": 20,
      "outputs": []
    },
    {
      "cell_type": "code",
      "source": [
        "list(f)"
      ],
      "metadata": {
        "colab": {
          "base_uri": "https://localhost:8080/"
        },
        "id": "dOEKc4JTZwcr",
        "outputId": "c90d939f-dae4-4a80-ecca-c26bf9aee347"
      },
      "execution_count": 22,
      "outputs": [
        {
          "output_type": "execute_result",
          "data": {
            "text/plain": [
              "[3, 4, 5, 6, 7]"
            ]
          },
          "metadata": {},
          "execution_count": 22
        }
      ]
    },
    {
      "cell_type": "code",
      "source": [
        "g = range(3,8,2)"
      ],
      "metadata": {
        "id": "O1HJ5pxOZ1NV"
      },
      "execution_count": 23,
      "outputs": []
    },
    {
      "cell_type": "code",
      "source": [
        "list(g)"
      ],
      "metadata": {
        "colab": {
          "base_uri": "https://localhost:8080/"
        },
        "id": "bnYwp4xbZ6WT",
        "outputId": "df49101d-0401-4a47-e054-cfc52a9747db"
      },
      "execution_count": 24,
      "outputs": [
        {
          "output_type": "execute_result",
          "data": {
            "text/plain": [
              "[3, 5, 7]"
            ]
          },
          "metadata": {},
          "execution_count": 24
        }
      ]
    },
    {
      "cell_type": "code",
      "source": [
        "h = range(8,3,-2)"
      ],
      "metadata": {
        "id": "a6mQSs9DZ8eD"
      },
      "execution_count": 25,
      "outputs": []
    },
    {
      "cell_type": "code",
      "source": [
        "list(h)"
      ],
      "metadata": {
        "colab": {
          "base_uri": "https://localhost:8080/"
        },
        "id": "Uw_pdr4PaCaH",
        "outputId": "a429ab32-8b87-4081-aa80-a499933bf179"
      },
      "execution_count": 26,
      "outputs": [
        {
          "output_type": "execute_result",
          "data": {
            "text/plain": [
              "[8, 6, 4]"
            ]
          },
          "metadata": {},
          "execution_count": 26
        }
      ]
    },
    {
      "cell_type": "code",
      "source": [
        "i = range(3,9,2)"
      ],
      "metadata": {
        "id": "duCtJt2aaFpl"
      },
      "execution_count": 29,
      "outputs": []
    },
    {
      "cell_type": "code",
      "source": [
        "list(i)"
      ],
      "metadata": {
        "colab": {
          "base_uri": "https://localhost:8080/"
        },
        "id": "VioiaD-PaO81",
        "outputId": "c2e94110-1fdd-4382-891a-4a6858fae8bd"
      },
      "execution_count": 30,
      "outputs": [
        {
          "output_type": "execute_result",
          "data": {
            "text/plain": [
              "[3, 5, 7]"
            ]
          },
          "metadata": {},
          "execution_count": 30
        }
      ]
    },
    {
      "cell_type": "code",
      "source": [
        "j = range(9,3,-2)"
      ],
      "metadata": {
        "id": "JE5H3HiiaZp1"
      },
      "execution_count": 31,
      "outputs": []
    },
    {
      "cell_type": "code",
      "source": [
        "list(j)"
      ],
      "metadata": {
        "colab": {
          "base_uri": "https://localhost:8080/"
        },
        "id": "hUZcgx2JagRr",
        "outputId": "d10443d1-6a5c-4fe9-fa91-1b1c8f8caf3e"
      },
      "execution_count": 33,
      "outputs": [
        {
          "output_type": "execute_result",
          "data": {
            "text/plain": [
              "[9, 7, 5]"
            ]
          },
          "metadata": {},
          "execution_count": 33
        }
      ]
    },
    {
      "cell_type": "code",
      "source": [
        "k = range(8,1,-2)"
      ],
      "metadata": {
        "id": "3gQ2Hcf0aijV"
      },
      "execution_count": 38,
      "outputs": []
    },
    {
      "cell_type": "code",
      "source": [
        "list(k)"
      ],
      "metadata": {
        "colab": {
          "base_uri": "https://localhost:8080/"
        },
        "id": "GLAU0Q70aoHB",
        "outputId": "74e3fa17-2945-43eb-d1bb-1ca081f4b85f"
      },
      "execution_count": 39,
      "outputs": [
        {
          "output_type": "execute_result",
          "data": {
            "text/plain": [
              "[8, 6, 4, 2]"
            ]
          },
          "metadata": {},
          "execution_count": 39
        }
      ]
    },
    {
      "cell_type": "code",
      "source": [
        "A = range(9)"
      ],
      "metadata": {
        "id": "SujQEXS5ap-_"
      },
      "execution_count": 41,
      "outputs": []
    },
    {
      "cell_type": "code",
      "source": [
        "list(A)"
      ],
      "metadata": {
        "colab": {
          "base_uri": "https://localhost:8080/"
        },
        "id": "FJWb-VPIbOGr",
        "outputId": "a513d713-b7b1-47ac-b81b-19197beb2138"
      },
      "execution_count": 43,
      "outputs": [
        {
          "output_type": "execute_result",
          "data": {
            "text/plain": [
              "[0, 1, 2, 3, 4, 5, 6, 7, 8]"
            ]
          },
          "metadata": {},
          "execution_count": 43
        }
      ]
    },
    {
      "cell_type": "code",
      "source": [
        "B = range(1,10)"
      ],
      "metadata": {
        "id": "GonBfihebTo7"
      },
      "execution_count": 44,
      "outputs": []
    },
    {
      "cell_type": "code",
      "source": [
        "list(B)"
      ],
      "metadata": {
        "colab": {
          "base_uri": "https://localhost:8080/"
        },
        "id": "JDHoLpoWbetT",
        "outputId": "a35755ee-6a37-4230-a760-f984100fe58f"
      },
      "execution_count": 45,
      "outputs": [
        {
          "output_type": "execute_result",
          "data": {
            "text/plain": [
              "[1, 2, 3, 4, 5, 6, 7, 8, 9]"
            ]
          },
          "metadata": {},
          "execution_count": 45
        }
      ]
    },
    {
      "cell_type": "code",
      "source": [
        "C = range(1,10,2)"
      ],
      "metadata": {
        "id": "Jj-LFqWVbiDl"
      },
      "execution_count": 47,
      "outputs": []
    },
    {
      "cell_type": "code",
      "source": [
        "list(C)"
      ],
      "metadata": {
        "colab": {
          "base_uri": "https://localhost:8080/"
        },
        "id": "A1BsUEbFbomr",
        "outputId": "c17b3b15-39b0-4aa1-f923-c42f302ed110"
      },
      "execution_count": 48,
      "outputs": [
        {
          "output_type": "execute_result",
          "data": {
            "text/plain": [
              "[1, 3, 5, 7, 9]"
            ]
          },
          "metadata": {},
          "execution_count": 48
        }
      ]
    },
    {
      "cell_type": "code",
      "source": [
        "D = range(10,1,-2)"
      ],
      "metadata": {
        "id": "NK6mkrBSbrFb"
      },
      "execution_count": 49,
      "outputs": []
    },
    {
      "cell_type": "code",
      "source": [
        "list(D)"
      ],
      "metadata": {
        "colab": {
          "base_uri": "https://localhost:8080/"
        },
        "id": "v7pjEMMJbvnI",
        "outputId": "d069213a-6a11-443b-968a-cacc67babebc"
      },
      "execution_count": 50,
      "outputs": [
        {
          "output_type": "execute_result",
          "data": {
            "text/plain": [
              "[10, 8, 6, 4, 2]"
            ]
          },
          "metadata": {},
          "execution_count": 50
        }
      ]
    },
    {
      "cell_type": "code",
      "source": [
        "z = int(input(\"請輸入一個正整數:\"))\n",
        "for n in range(1,z+1):\n",
        "  print(n, end=\" \")"
      ],
      "metadata": {
        "colab": {
          "base_uri": "https://localhost:8080/"
        },
        "id": "RLX3FMJ6cCvU",
        "outputId": "4f7cea43-55b4-4a33-ef54-c2e5aa4892fc"
      },
      "execution_count": 69,
      "outputs": [
        {
          "output_type": "stream",
          "name": "stdout",
          "text": [
            "請輸入一個正整數:5\n",
            "1 2 3 4 5 "
          ]
        }
      ]
    },
    {
      "cell_type": "code",
      "source": [
        "x= int(input(\"請輸入一個正整數:\"))\n",
        "for n in range(1,x+1):\n",
        "  print(n, end=\" \")"
      ],
      "metadata": {
        "colab": {
          "base_uri": "https://localhost:8080/"
        },
        "id": "PitMXzWkce5c",
        "outputId": "0ad2d67f-5784-41c0-bffe-e7a6a85c0eb9"
      },
      "execution_count": 70,
      "outputs": [
        {
          "output_type": "stream",
          "name": "stdout",
          "text": [
            "請輸入一個正整數:12\n",
            "1 2 3 4 5 6 7 8 9 10 11 12 "
          ]
        }
      ]
    },
    {
      "cell_type": "code",
      "source": [
        "for n in range(3):\n",
        "  print(n, end=\",\")"
      ],
      "metadata": {
        "colab": {
          "base_uri": "https://localhost:8080/"
        },
        "id": "U2yAoIjPbxtY",
        "outputId": "cdc60a0d-a151-4cef-bd03-d8593eb629bd"
      },
      "execution_count": 51,
      "outputs": [
        {
          "output_type": "stream",
          "name": "stdout",
          "text": [
            "0,1,2,"
          ]
        }
      ]
    },
    {
      "cell_type": "code",
      "source": [
        "sum = 0\n",
        "for n in range(3):\n",
        "  sum = sum + n\n",
        "print(sum)"
      ],
      "metadata": {
        "colab": {
          "base_uri": "https://localhost:8080/"
        },
        "id": "VW6FBeikcig1",
        "outputId": "7302bcd5-5143-46b6-9acc-39c22c5146ec"
      },
      "execution_count": 62,
      "outputs": [
        {
          "output_type": "stream",
          "name": "stdout",
          "text": [
            "3\n"
          ]
        }
      ]
    },
    {
      "cell_type": "code",
      "source": [
        "y = int(input(\"請輸入一個正整數:\"))\n",
        "sum = 0\n",
        "for n in range(y+1):\n",
        "  sum = sum + n\n",
        "print(sum)"
      ],
      "metadata": {
        "colab": {
          "base_uri": "https://localhost:8080/"
        },
        "id": "smY2JxyKdM5g",
        "outputId": "4cb4431f-b33a-4b24-85c4-a96b525ec781"
      },
      "execution_count": 76,
      "outputs": [
        {
          "output_type": "stream",
          "name": "stdout",
          "text": [
            "請輸入一個正整數:10\n",
            "55\n"
          ]
        }
      ]
    },
    {
      "cell_type": "code",
      "source": [
        "u = int(input(\"請輸入一個正整數:\"))\n",
        "sum = 0\n",
        "for n in range(u+1):\n",
        "  sum = sum + n\n",
        "print(sum)"
      ],
      "metadata": {
        "colab": {
          "base_uri": "https://localhost:8080/"
        },
        "id": "XNnfC8rfddhr",
        "outputId": "6f7f9346-9082-4448-e519-a83ab8940b6a"
      },
      "execution_count": 78,
      "outputs": [
        {
          "output_type": "stream",
          "name": "stdout",
          "text": [
            "請輸入一個正整數:50\n",
            "1275\n"
          ]
        }
      ]
    },
    {
      "cell_type": "code",
      "source": [
        "v = int(input(\"請輸入一個正整數:\"))\n",
        "sum = 0\n",
        "for n in range(1,v+1):\n",
        "  sum = sum + n\n",
        "  print(\"1到\",v,\"的整數和為:\",sum)\n"
      ],
      "metadata": {
        "colab": {
          "base_uri": "https://localhost:8080/"
        },
        "id": "agJ58mrcdlsO",
        "outputId": "c7750a51-10af-4fc7-9f11-feecc7db3527"
      },
      "execution_count": 2,
      "outputs": [
        {
          "output_type": "stream",
          "name": "stdout",
          "text": [
            "請輸入一個正整數:10\n",
            "1到 10 的整數和為: 1\n",
            "1到 10 的整數和為: 3\n",
            "1到 10 的整數和為: 6\n",
            "1到 10 的整數和為: 10\n",
            "1到 10 的整數和為: 15\n",
            "1到 10 的整數和為: 21\n",
            "1到 10 的整數和為: 28\n",
            "1到 10 的整數和為: 36\n",
            "1到 10 的整數和為: 45\n",
            "1到 10 的整數和為: 55\n"
          ]
        }
      ]
    }
  ]
}